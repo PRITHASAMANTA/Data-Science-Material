{
  "nbformat": 4,
  "nbformat_minor": 0,
  "metadata": {
    "colab": {
      "provenance": [],
      "authorship_tag": "ABX9TyOlljnKNkDOqql9jIVFwIRh",
      "include_colab_link": true
    },
    "kernelspec": {
      "name": "python3",
      "display_name": "Python 3"
    },
    "language_info": {
      "name": "python"
    }
  },
  "cells": [
    {
      "cell_type": "markdown",
      "metadata": {
        "id": "view-in-github",
        "colab_type": "text"
      },
      "source": [
        "<a href=\"https://colab.research.google.com/github/PRITHASAMANTA/Data-Science-Material/blob/main/ML_Day_2ipynb.ipynb\" target=\"_parent\"><img src=\"https://colab.research.google.com/assets/colab-badge.svg\" alt=\"Open In Colab\"/></a>"
      ]
    },
    {
      "cell_type": "markdown",
      "source": [
        "#SUPERVISED ML:\n",
        "     \n",
        "\n",
        "#Regression Analysis: type of supervised ml\n",
        "    #1.Linear Reg:\n",
        "         assume linear relationship betw dependent and independent var\n",
        "         - y=b0+b1x1+b2x2+...bnxn+ e\n",
        "          b0= intercept,\n",
        "          b1=slope,\n",
        "          e= error\n",
        "          steps:\n",
        "          1.fit the model\n",
        "          2.predict\n",
        "          3.evaluate\n",
        "    #Cost Function:\n",
        "         Linear reg aims to minimize the error btw the predicated and actual values.this is achieved using cost function\n",
        "    # Cost Function measures how far the predictions are from the actual values\n",
        "    # most common cost func is : mean squared error\n",
        "    j(b0,b1)=1/m(sumation(yi-(b0+b1x))^2)\n",
        "      m=no of data points\n",
        "      y1= actual values\n",
        "      b0_b1x=predicted values\n",
        "    objective: minimize j(b0,b1) to find the best fitting lines\n",
        "\n"
      ],
      "metadata": {
        "id": "a5Kn0dYxwtVG"
      }
    },
    {
      "cell_type": "markdown",
      "source": [
        "# Ex 1: Implement a simple Linear Regression model using Scikt_learn"
      ],
      "metadata": {
        "id": "craRiHSkys2F"
      }
    },
    {
      "cell_type": "code",
      "execution_count": 2,
      "metadata": {
        "id": "wxvTSJwNwqQR"
      },
      "outputs": [],
      "source": [
        "import pandas as pd\n",
        "import numpy as np\n",
        "from sklearn.model_selection import train_test_split\n",
        "from sklearn.linear_model import LinearRegression\n",
        "from sklearn.metrics import mean_squared_error,r2_score"
      ]
    },
    {
      "cell_type": "code",
      "source": [
        "\n",
        "x = np.random.rand(100,1)*100  # all are giving random values.it will provide 1,100 random values\n",
        "x"
      ],
      "metadata": {
        "colab": {
          "base_uri": "https://localhost:8080/"
        },
        "id": "vhQhIdiL0FCw",
        "outputId": "324141ad-3133-493a-b0fd-5e638723aa61"
      },
      "execution_count": 23,
      "outputs": [
        {
          "output_type": "execute_result",
          "data": {
            "text/plain": [
              "array([[ 5.16817212],\n",
              "       [53.13546316],\n",
              "       [54.06351216],\n",
              "       [63.74299015],\n",
              "       [72.60913337],\n",
              "       [97.58520795],\n",
              "       [51.63003483],\n",
              "       [32.29564729],\n",
              "       [79.51861948],\n",
              "       [27.08322513],\n",
              "       [43.89714207],\n",
              "       [ 7.84563813],\n",
              "       [ 2.53507434],\n",
              "       [96.26484147],\n",
              "       [83.59801205],\n",
              "       [69.59742061],\n",
              "       [40.89529444],\n",
              "       [17.32943201],\n",
              "       [15.64370427],\n",
              "       [25.02428982],\n",
              "       [54.92266647],\n",
              "       [71.45959227],\n",
              "       [66.01973767],\n",
              "       [27.99338969],\n",
              "       [95.48652807],\n",
              "       [73.78969167],\n",
              "       [55.43540525],\n",
              "       [61.17207462],\n",
              "       [41.96000624],\n",
              "       [24.77309895],\n",
              "       [35.59726787],\n",
              "       [75.78461105],\n",
              "       [ 1.43934886],\n",
              "       [11.60726405],\n",
              "       [ 4.6002642 ],\n",
              "       [ 4.07288023],\n",
              "       [85.5460584 ],\n",
              "       [70.36578594],\n",
              "       [47.41738291],\n",
              "       [ 9.78341607],\n",
              "       [49.16158751],\n",
              "       [47.34717708],\n",
              "       [17.32018699],\n",
              "       [43.38516492],\n",
              "       [39.85047344],\n",
              "       [61.58500981],\n",
              "       [63.50936509],\n",
              "       [ 4.53040098],\n",
              "       [37.46126146],\n",
              "       [62.58599157],\n",
              "       [50.31362586],\n",
              "       [85.64898412],\n",
              "       [65.86936316],\n",
              "       [16.29344271],\n",
              "       [ 7.05687474],\n",
              "       [64.24192782],\n",
              "       [ 2.65113105],\n",
              "       [58.57755813],\n",
              "       [94.02302414],\n",
              "       [57.54741779],\n",
              "       [38.81699262],\n",
              "       [64.32882184],\n",
              "       [45.82528905],\n",
              "       [54.56167893],\n",
              "       [94.14648088],\n",
              "       [38.61026378],\n",
              "       [96.11905638],\n",
              "       [90.5350642 ],\n",
              "       [19.57911348],\n",
              "       [ 6.93613009],\n",
              "       [10.07780014],\n",
              "       [ 1.82218257],\n",
              "       [ 9.44429608],\n",
              "       [68.30067734],\n",
              "       [ 7.11886485],\n",
              "       [31.89756303],\n",
              "       [84.4875311 ],\n",
              "       [ 2.32719357],\n",
              "       [81.44684826],\n",
              "       [28.18547748],\n",
              "       [11.81648276],\n",
              "       [69.67371654],\n",
              "       [62.89428468],\n",
              "       [87.74720135],\n",
              "       [73.50710438],\n",
              "       [80.34809304],\n",
              "       [28.20345726],\n",
              "       [17.74395438],\n",
              "       [75.06147516],\n",
              "       [80.68347393],\n",
              "       [99.0505142 ],\n",
              "       [41.26176769],\n",
              "       [37.20180858],\n",
              "       [77.64129607],\n",
              "       [34.08035403],\n",
              "       [93.07573256],\n",
              "       [85.84127518],\n",
              "       [42.89940274],\n",
              "       [75.08710678],\n",
              "       [75.45428741]])"
            ]
          },
          "metadata": {},
          "execution_count": 23
        }
      ]
    },
    {
      "cell_type": "code",
      "source": [
        "#Generate synthetic data\n",
        "np.random.seed(42)\n",
        "x = np.random.rand(100,1) *100\n",
        "y = 3 * x + np.random.rand(100,1)*2"
      ],
      "metadata": {
        "id": "bFxDeXqkzK-G"
      },
      "execution_count": 16,
      "outputs": []
    },
    {
      "cell_type": "markdown",
      "source": [
        "Let’s break this code down line by line 👇\n",
        "\n",
        "---\n",
        "\n",
        "### 1️⃣ `np.random.seed(42)`\n",
        "\n",
        "This **sets the random seed** for NumPy’s random number generator.\n",
        "\n",
        "✅ Meaning: It ensures that every time you run the code, you’ll get the **same random numbers** (for reproducibility).\n",
        "If you remove this line, the numbers will change each time.\n",
        "\n",
        "💡 If you want whole numbers instead:\n",
        "\n",
        "You can use np.random.randint() instead of np.random.rand().\n",
        "\n",
        "Example:\n",
        "\n",
        "x = np.random.randint(0, 100, (100, 1))\n",
        "\n",
        "\n",
        "That gives you 100 random integers between 0 and 99 (inclusive), like:\n",
        "\n",
        "[[37],\n",
        " [95],\n",
        " [73],\n",
        " ...\n",
        " [8]\n",
        "---\n",
        "\n",
        "### 2️⃣ `x = np.random.rand(100, 1) * 100`\n",
        "\n",
        "* `np.random.rand(100, 1)` creates a **100×1 array** of random numbers between **0 and 1**.\n",
        "* Multiplying by `100` scales these values to be between **0 and 100**.\n",
        "\n",
        "✅ So, `x` is a column vector with 100 random values in `[0, 100)`.\n",
        "\n",
        "Example:\n",
        "\n",
        "```\n",
        "x = [[37.45],\n",
        "     [95.07],\n",
        "     [73.20],\n",
        "     ...\n",
        "    ]\n",
        "```\n",
        "\n",
        "---\n",
        "\n",
        "### 3️⃣ `y = 3 * x + np.random.rand(100, 1) * 2`\n",
        "\n",
        "Here we’re **creating a dependent variable `y`** based on `x`.\n",
        "\n",
        "* The main term `3 * x` means we’re assuming a linear relationship where the slope is 3.\n",
        "* `np.random.rand(100, 1) * 2` adds **a small random noise** between `0` and `2`.\n",
        "\n",
        "✅ So, mathematically:\n",
        "[\n",
        "y = 3x + \\text{small random noise}\n",
        "]\n",
        "\n",
        "This simulates **real-world data** where `y` depends linearly on `x` but has some randomness (like measurement errors).\n",
        "\n",
        "\n",
        "\n",
        "\n"
      ],
      "metadata": {
        "id": "cbZ2z4cj1RA8"
      }
    },
    {
      "cell_type": "code",
      "source": [
        "#Split the data\n",
        "\n",
        "X_train,X_test,Y_train,Y_test = train_test_split(x,y,test_size=0.2,random_state=42)"
      ],
      "metadata": {
        "id": "VysSq1El11sE"
      },
      "execution_count": 24,
      "outputs": []
    },
    {
      "cell_type": "markdown",
      "source": [
        " #fit linear reg\n",
        "model = LinearRegression()\n",
        "model.fit(X_train,Y_train)\n",
        "\n",
        "🧩 What’s happening here:\n",
        "\n",
        "LinearRegression() creates an empty model object.\n",
        "\n",
        "model.fit(X_train, Y_train) means:\n",
        "\n",
        "Fit (or train) the model using your training data.\n",
        "\n",
        "It calculates the best slope (m) and intercept (c) so that the line y = mx + c best fits the data.\n",
        "\n",
        "👉 Internally, it uses least squares method to minimize the error between actual Y_train and predicted values."
      ],
      "metadata": {
        "id": "diRMgW5s_ICD"
      }
    },
    {
      "cell_type": "code",
      "source": [
        "#fit linear reg\n",
        "model = LinearRegression()\n",
        "model.fit(X_train,Y_train)\n",
        "\n",
        "#Make predictions\n",
        "Y_pred = model.predict(X_test)\n",
        "\n",
        "print(\"Slopes (coefficients): \", model.coef_)\n",
        "\n",
        "\n",
        "print(\"Intercept: \", model.intercept_)\n",
        "\n",
        "# #print co efficients\n",
        "print(\"slope is : \", model.coef_[0][0])\n",
        "print(\"intercept is : \", model.intercept_[0])"
      ],
      "metadata": {
        "colab": {
          "base_uri": "https://localhost:8080/"
        },
        "id": "t5ag0JQE2EOa",
        "outputId": "95da621e-2cc8-4b2d-c3a1-a813daec6ab8"
      },
      "execution_count": 28,
      "outputs": [
        {
          "output_type": "stream",
          "name": "stdout",
          "text": [
            "Slopes (coefficients):  [[-0.49163585]]\n",
            "Intercept:  [166.58150771]\n",
            "slope is :  -0.4916358530699066\n",
            "intercept is :  166.58150770698836\n"
          ]
        }
      ]
    },
    {
      "cell_type": "markdown",
      "source": [
        "model.coef_[0][0] = 2.1(ex) (slope for feature 1)\n",
        "\n",
        "model.coef_[0][1] = 3.4 (slope for feature 2)\n",
        "  \n",
        "model.coef_[0][2] = -1.2 (slope for feature 3)\n",
        "\n",
        "but when u have only one feature, then u can use   \n",
        "###print(\"Slopes (coefficients): \", model.coef_)  \n",
        "as intercept is same so you can use :\n",
        "print(\"Intercept: \", model.intercept_)  for all"
      ],
      "metadata": {
        "id": "TxEvtI-QLYN0"
      }
    },
    {
      "cell_type": "markdown",
      "source": [
        "#Why interception is same?\n",
        "\n",
        "\n",
        "### 🔹 Step 1: Recall the general equation\n",
        "\n",
        "For **multiple** linear regression with 3 input variables (features):\n",
        "\n",
        "[\n",
        "\\hat{y} = m_1x_1 + m_2x_2 + m_3x_3 + c\n",
        "]\n",
        "\n",
        "where:\n",
        "\n",
        "* ( x_1 = ) size (sqft)\n",
        "* ( x_2 = ) bedrooms\n",
        "* ( x_3 = ) age\n",
        "* ( m_1, m_2, m_3 ) are **slopes (coefficients)** for each variable\n",
        "* ( c ) is the **intercept**\n",
        "\n",
        "---\n",
        "\n",
        "### 🔹 Step 2: What each coefficient means\n",
        "\n",
        "Each slope tells **how much y changes when that variable changes by 1 unit**, **keeping others constant**.\n",
        "\n",
        "Example:\n",
        "\n",
        "* ( m_1 = 0.2 ) → if size increases by 1 sqft (while bedrooms & age fixed), price increases by 0.2 thousand.\n",
        "* ( m_2 = -0.86 ) → if bedrooms increase by 1 (keeping size & age fixed), price decreases by 0.86 thousand.\n",
        "* ( m_3 = -0.80 ) → if age increases by 1 year (keeping others fixed), price decreases by 0.80 thousand.\n",
        "\n",
        "So yes — ✅ you get **different slope values for each x variable** because each has its own effect on y.\n",
        "\n",
        "---\n",
        "\n",
        "### 🔹 Step 3: But why **only one intercept**?\n",
        "\n",
        "Think of the intercept ( c ) as the **baseline y** —\n",
        "the value of y when **all x’s = 0**.\n",
        "\n",
        "[\n",
        "value of y, when  x_1=x_2=x_3=0\n",
        "]\n",
        "\n",
        "#* It’s **one single point** where the regression plane (in 3D) crosses the y-axis.\n",
        "#* No matter how many x’s you have, the line or plane has **only one intercept** — it’s the starting point from which all slopes add or subtract their contributions.\n",
        "\n",
        "\n",
        "\n"
      ],
      "metadata": {
        "id": "8CQEuIrZMNgJ"
      }
    },
    {
      "cell_type": "code",
      "source": [
        "#visualize performence\n",
        "import matplotlib.pyplot as plt\n",
        "plt.scatter(X_test,Y_test,color='red',label='actual data')\n",
        "plt.plot(X_test,Y_pred,color='blue',label='predicted data')\n",
        "plt.xlabel('x')\n",
        "plt.ylabel('y')\n",
        "plt.legend()\n",
        "plt.show()\n"
      ],
      "metadata": {
        "colab": {
          "base_uri": "https://localhost:8080/",
          "height": 449
        },
        "id": "G4beHUvk2P8V",
        "outputId": "71bdf067-12ff-42f4-a355-f865f18ae897"
      },
      "execution_count": 29,
      "outputs": [
        {
          "output_type": "display_data",
          "data": {
            "text/plain": [
              "<Figure size 640x480 with 1 Axes>"
            ],
            "image/png": "[encoded data removed]"
          },
          "metadata": {}
        }
      ]
    },
    {
      "cell_type": "code",
      "source": [
        "#Evaluate performence\n",
        "mse= mean_squared_error(Y_test,Y_pred)\n",
        "print(\"MSE\",mse)\n",
        "r2=r2_score(Y_test,Y_pred)\n",
        "print(\"R2\",r2)"
      ],
      "metadata": {
        "colab": {
          "base_uri": "https://localhost:8080/"
        },
        "id": "tleng2rWNV4B",
        "outputId": "a73dac31-7fff-4318-9038-44d02e8ba92f"
      },
      "execution_count": 31,
      "outputs": [
        {
          "output_type": "stream",
          "name": "stdout",
          "text": [
            "MSE 7989.336056471962\n",
            "R2 0.10148850003400123\n"
          ]
        }
      ]
    },
    {
      "cell_type": "code",
      "source": [],
      "metadata": {
        "id": "9kJ6QT08OHc5"
      },
      "execution_count": null,
      "outputs": []
    }
  ]
}