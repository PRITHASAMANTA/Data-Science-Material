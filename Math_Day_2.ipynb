{
  "nbformat": 4,
  "nbformat_minor": 0,
  "metadata": {
    "colab": {
      "provenance": [],
      "authorship_tag": "ABX9TyO96leeb1LxpGJdZnrVz3aw",
      "include_colab_link": true
    },
    "kernelspec": {
      "name": "python3",
      "display_name": "Python 3"
    },
    "language_info": {
      "name": "python"
    }
  },
  "cells": [
    {
      "cell_type": "markdown",
      "metadata": {
        "id": "view-in-github",
        "colab_type": "text"
      },
      "source": [
        "<a href=\"https://colab.research.google.com/github/PRITHASAMANTA/Data-Science-Material/blob/main/Math_Day_2.ipynb\" target=\"_parent\"><img src=\"https://colab.research.google.com/assets/colab-badge.svg\" alt=\"Open In Colab\"/></a>"
      ]
    },
    {
      "cell_type": "markdown",
      "source": [
        "#Determinants and Inverse of a Mtrix\n",
        "\n",
        "determinants are the scalar value that provides information about matrix properties\n",
        "-calculated only for square matrix\n",
        "det(A)=0, a is singular"
      ],
      "metadata": {
        "id": "K4tRSL9sGyAt"
      }
    },
    {
      "cell_type": "code",
      "execution_count": 3,
      "metadata": {
        "id": "CfK7iQo2Gqlm"
      },
      "outputs": [],
      "source": [
        "import numpy as np"
      ]
    },
    {
      "cell_type": "code",
      "source": [
        "A=np.array([[2,3],[1,4]])"
      ],
      "metadata": {
        "id": "cjq_omoKIu8V"
      },
      "execution_count": 4,
      "outputs": []
    },
    {
      "cell_type": "code",
      "source": [
        "determinant= np.linalg.det(A)\n",
        "determinant"
      ],
      "metadata": {
        "colab": {
          "base_uri": "https://localhost:8080/"
        },
        "id": "R1hGMRqRIyuz",
        "outputId": "45f59689-de45-4d81-a498-a7214a2e887b"
      },
      "execution_count": 5,
      "outputs": [
        {
          "output_type": "execute_result",
          "data": {
            "text/plain": [
              "np.float64(5.000000000000001)"
            ]
          },
          "metadata": {},
          "execution_count": 5
        }
      ]
    },
    {
      "cell_type": "markdown",
      "source": [
        "#Determinants and Inverse of a matrix\n",
        "-Inverse of a matrix\n",
        "-denoted as A-1\n",
        "-product of a matrix and its inverse is the identity matrix\n",
        "A,A-1=I\n",
        "-matrix is invertible only if det(A) not eq 0\n",
        "A-1=1/det(A)[d -b\n",
        "             -c  a]"
      ],
      "metadata": {
        "id": "9Ot6CYYYmeDL"
      }
    },
    {
      "cell_type": "code",
      "source": [
        "inverse=np.linalg.inv(A)\n",
        "print(\"inverse of A is :\\n\" , inverse)"
      ],
      "metadata": {
        "colab": {
          "base_uri": "https://localhost:8080/"
        },
        "id": "rsbcLB8CI-Cg",
        "outputId": "bac40fa3-dfaf-4734-f925-175b1bc215e0"
      },
      "execution_count": 8,
      "outputs": [
        {
          "output_type": "stream",
          "name": "stdout",
          "text": [
            "inverse of A is :\n",
            " [[ 0.8 -0.6]\n",
            " [-0.2  0.4]]\n"
          ]
        }
      ]
    },
    {
      "cell_type": "markdown",
      "source": [
        "#EigenValues and Eigen Vectors:\n",
        "A.v=lamda.v.then vis the eigenvector\n",
        "and lamda is the eigen value\n"
      ],
      "metadata": {
        "id": "-51yTp29nj3F"
      }
    },
    {
      "cell_type": "code",
      "source": [
        "eigenvalues,eigenvectors= np.linalg.eig(A)\n",
        "print(eigenvalues)\n",
        "print(eigenvectors)"
      ],
      "metadata": {
        "colab": {
          "base_uri": "https://localhost:8080/"
        },
        "id": "mgxcaS3InQSY",
        "outputId": "b711568b-7b84-4588-cc3d-98ac845208bd"
      },
      "execution_count": 10,
      "outputs": [
        {
          "output_type": "stream",
          "name": "stdout",
          "text": [
            "[1. 5.]\n",
            "[[-0.9486833  -0.70710678]\n",
            " [ 0.31622777 -0.70710678]]\n"
          ]
        }
      ]
    },
    {
      "cell_type": "code",
      "source": [
        "B= np.array([[4,2],[1,1]])\n",
        "eigval,eigvec = np.linalg.eig(B)\n",
        "print(eigval)\n",
        "print(eigvec)"
      ],
      "metadata": {
        "colab": {
          "base_uri": "https://localhost:8080/"
        },
        "id": "dnG89vdsn8iZ",
        "outputId": "62cea551-1b24-47d7-aaf2-b3e7eaf2b7cb"
      },
      "execution_count": 11,
      "outputs": [
        {
          "output_type": "stream",
          "name": "stdout",
          "text": [
            "[4.56155281 0.43844719]\n",
            "[[ 0.96276969 -0.48963374]\n",
            " [ 0.27032301  0.87192821]]\n"
          ]
        }
      ]
    },
    {
      "cell_type": "markdown",
      "source": [
        "Matrix Decomposition : process of breaking the matrix to analyze the problem\n",
        "#1. Singular Value decomposition(SVD)\n",
        " it decomposes a matrix into 3 parts\n",
        " A=U.sigma.V^t\n",
        " u=left singular/orthogonal matrix\n",
        " sigma:diagonal matrix\n",
        " v^t=right singular vector"
      ],
      "metadata": {
        "id": "NBMgLj_mo-XY"
      }
    },
    {
      "cell_type": "code",
      "source": [
        "U,S,Vt= np.linalg.svd(A)\n",
        "print(\"U is :\\n\", U)\n",
        "print(\"S is :\\n\", S)\n",
        "print(\"Vt is :\\n\", Vt)"
      ],
      "metadata": {
        "colab": {
          "base_uri": "https://localhost:8080/"
        },
        "id": "rzmWXT3do2vZ",
        "outputId": "88a53b5b-a0c2-40a6-9252-97b41598253a"
      },
      "execution_count": 13,
      "outputs": [
        {
          "output_type": "stream",
          "name": "stdout",
          "text": [
            "U is :\n",
            " [[-0.65520174 -0.75545395]\n",
            " [-0.75545395  0.65520174]]\n",
            "S is :\n",
            " [5.39834564 0.92620968]\n",
            "Vt is :\n",
            " [[-0.38268343 -0.92387953]\n",
            " [-0.92387953  0.38268343]]\n"
          ]
        }
      ]
    },
    {
      "cell_type": "markdown",
      "source": [
        "Ex 1 : Calculate the determinant and inverse of a matrix"
      ],
      "metadata": {
        "id": "CuyNApoGp72e"
      }
    },
    {
      "cell_type": "code",
      "source": [
        "A= np.array([[2,3,4], [4,5,6], [7,8,9]])\n",
        "det2=np.linalg.det(A)\n",
        "print(\"Determinant of A is :\\n\", det2)"
      ],
      "metadata": {
        "colab": {
          "base_uri": "https://localhost:8080/"
        },
        "id": "hDlUcfbcpp58",
        "outputId": "7a0aba10-8c36-4c57-c8ca-94fe4047d30a"
      },
      "execution_count": 27,
      "outputs": [
        {
          "output_type": "stream",
          "name": "stdout",
          "text": [
            "Determinant of A is :\n",
            " 0.0\n"
          ]
        }
      ]
    },
    {
      "cell_type": "markdown",
      "source": [
        "as determinant is 0 means it is singular matrix and it is not inversable"
      ],
      "metadata": {
        "id": "l0BrcF-Pt64e"
      }
    },
    {
      "cell_type": "code",
      "source": [
        "\n",
        "Inverse=np.linalg.inv(A)\n",
        "print(\"Inverse of A is :\\n\", Inverse)"
      ],
      "metadata": {
        "colab": {
          "base_uri": "https://localhost:8080/",
          "height": 316
        },
        "id": "matcHrIHrbHH",
        "outputId": "23f2583a-1382-420f-afca-3cdd4d822387"
      },
      "execution_count": 28,
      "outputs": [
        {
          "output_type": "error",
          "ename": "LinAlgError",
          "evalue": "Singular matrix",
          "traceback": [
            "\u001b[0;31m---------------------------------------------------------------------------\u001b[0m",
            "\u001b[0;31mLinAlgError\u001b[0m                               Traceback (most recent call last)",
            "\u001b[0;32m/tmp/ipython-input-2432192859.py\u001b[0m in \u001b[0;36m<cell line: 0>\u001b[0;34m()\u001b[0m\n\u001b[0;32m----> 1\u001b[0;31m \u001b[0mInverse\u001b[0m\u001b[0;34m=\u001b[0m\u001b[0mnp\u001b[0m\u001b[0;34m.\u001b[0m\u001b[0mlinalg\u001b[0m\u001b[0;34m.\u001b[0m\u001b[0minv\u001b[0m\u001b[0;34m(\u001b[0m\u001b[0mA\u001b[0m\u001b[0;34m)\u001b[0m\u001b[0;34m\u001b[0m\u001b[0;34m\u001b[0m\u001b[0m\n\u001b[0m\u001b[1;32m      2\u001b[0m \u001b[0mprint\u001b[0m\u001b[0;34m(\u001b[0m\u001b[0;34m\"Inverse of A is :\\n\"\u001b[0m\u001b[0;34m,\u001b[0m \u001b[0mInverse\u001b[0m\u001b[0;34m)\u001b[0m\u001b[0;34m\u001b[0m\u001b[0;34m\u001b[0m\u001b[0m\n",
            "\u001b[0;32m/usr/local/lib/python3.12/dist-packages/numpy/linalg/_linalg.py\u001b[0m in \u001b[0;36minv\u001b[0;34m(a)\u001b[0m\n\u001b[1;32m    606\u001b[0m     with errstate(call=_raise_linalgerror_singular, invalid='call',\n\u001b[1;32m    607\u001b[0m                   over='ignore', divide='ignore', under='ignore'):\n\u001b[0;32m--> 608\u001b[0;31m         \u001b[0mainv\u001b[0m \u001b[0;34m=\u001b[0m \u001b[0m_umath_linalg\u001b[0m\u001b[0;34m.\u001b[0m\u001b[0minv\u001b[0m\u001b[0;34m(\u001b[0m\u001b[0ma\u001b[0m\u001b[0;34m,\u001b[0m \u001b[0msignature\u001b[0m\u001b[0;34m=\u001b[0m\u001b[0msignature\u001b[0m\u001b[0;34m)\u001b[0m\u001b[0;34m\u001b[0m\u001b[0;34m\u001b[0m\u001b[0m\n\u001b[0m\u001b[1;32m    609\u001b[0m     \u001b[0;32mreturn\u001b[0m \u001b[0mwrap\u001b[0m\u001b[0;34m(\u001b[0m\u001b[0mainv\u001b[0m\u001b[0;34m.\u001b[0m\u001b[0mastype\u001b[0m\u001b[0;34m(\u001b[0m\u001b[0mresult_t\u001b[0m\u001b[0;34m,\u001b[0m \u001b[0mcopy\u001b[0m\u001b[0;34m=\u001b[0m\u001b[0;32mFalse\u001b[0m\u001b[0;34m)\u001b[0m\u001b[0;34m)\u001b[0m\u001b[0;34m\u001b[0m\u001b[0;34m\u001b[0m\u001b[0m\n\u001b[1;32m    610\u001b[0m \u001b[0;34m\u001b[0m\u001b[0m\n",
            "\u001b[0;32m/usr/local/lib/python3.12/dist-packages/numpy/linalg/_linalg.py\u001b[0m in \u001b[0;36m_raise_linalgerror_singular\u001b[0;34m(err, flag)\u001b[0m\n\u001b[1;32m    102\u001b[0m \u001b[0;34m\u001b[0m\u001b[0m\n\u001b[1;32m    103\u001b[0m \u001b[0;32mdef\u001b[0m \u001b[0m_raise_linalgerror_singular\u001b[0m\u001b[0;34m(\u001b[0m\u001b[0merr\u001b[0m\u001b[0;34m,\u001b[0m \u001b[0mflag\u001b[0m\u001b[0;34m)\u001b[0m\u001b[0;34m:\u001b[0m\u001b[0;34m\u001b[0m\u001b[0;34m\u001b[0m\u001b[0m\n\u001b[0;32m--> 104\u001b[0;31m     \u001b[0;32mraise\u001b[0m \u001b[0mLinAlgError\u001b[0m\u001b[0;34m(\u001b[0m\u001b[0;34m\"Singular matrix\"\u001b[0m\u001b[0;34m)\u001b[0m\u001b[0;34m\u001b[0m\u001b[0;34m\u001b[0m\u001b[0m\n\u001b[0m\u001b[1;32m    105\u001b[0m \u001b[0;34m\u001b[0m\u001b[0m\n\u001b[1;32m    106\u001b[0m \u001b[0;32mdef\u001b[0m \u001b[0m_raise_linalgerror_nonposdef\u001b[0m\u001b[0;34m(\u001b[0m\u001b[0merr\u001b[0m\u001b[0;34m,\u001b[0m \u001b[0mflag\u001b[0m\u001b[0;34m)\u001b[0m\u001b[0;34m:\u001b[0m\u001b[0;34m\u001b[0m\u001b[0;34m\u001b[0m\u001b[0m\n",
            "\u001b[0;31mLinAlgError\u001b[0m: Singular matrix"
          ]
        }
      ]
    },
    {
      "cell_type": "markdown",
      "source": [
        "# As the det is 0 so it is not inversable, thats why error coming\n"
      ],
      "metadata": {
        "id": "IK2A-51ouHqG"
      }
    },
    {
      "cell_type": "code",
      "source": [
        "A = np.array([[2, 1, 3],\n",
        "              [1, 0, 2],\n",
        "              [3, 2, 1]])\n",
        "\n",
        "det = np.linalg.det(A)\n",
        "print(\"Determinant:\", det)"
      ],
      "metadata": {
        "colab": {
          "base_uri": "https://localhost:8080/"
        },
        "id": "OjweDJygr5_m",
        "outputId": "54dd4686-7cb8-41bb-8d37-e76fa4903e56"
      },
      "execution_count": 30,
      "outputs": [
        {
          "output_type": "stream",
          "name": "stdout",
          "text": [
            "Determinant: 3.000000000000001\n"
          ]
        }
      ]
    },
    {
      "cell_type": "code",
      "source": [
        "inv = np.linalg.inv(A)\n",
        "print(\"Inverse:\\n\", inv)"
      ],
      "metadata": {
        "colab": {
          "base_uri": "https://localhost:8080/"
        },
        "id": "jfce4DvGuQJU",
        "outputId": "09166cf4-24c1-4b8d-8b21-1ceb2c9e432d"
      },
      "execution_count": 31,
      "outputs": [
        {
          "output_type": "stream",
          "name": "stdout",
          "text": [
            "Inverse:\n",
            " [[-1.33333333  1.66666667  0.66666667]\n",
            " [ 1.66666667 -2.33333333 -0.33333333]\n",
            " [ 0.66666667 -0.33333333 -0.33333333]]\n"
          ]
        }
      ]
    },
    {
      "cell_type": "markdown",
      "source": [
        "# Ex 2 compute eigen value and eigen vector"
      ],
      "metadata": {
        "id": "7z1uj7yzvJqY"
      }
    },
    {
      "cell_type": "code",
      "source": [
        "eigenval2,eigenvec2= np.linalg.eig(A)\n",
        "print(\"Eigen values are :\\n\", eigenval2)\n",
        "print(\"Eigen vectors are :\\n\", eigenvec2)"
      ],
      "metadata": {
        "colab": {
          "base_uri": "https://localhost:8080/"
        },
        "id": "e5kNpMPKubKK",
        "outputId": "2574242b-c439-4286-89c1-4284ddf3a59f"
      },
      "execution_count": 32,
      "outputs": [
        {
          "output_type": "stream",
          "name": "stdout",
          "text": [
            "Eigen values are :\n",
            " [ 5.34849393 -0.26984088 -2.07865306]\n",
            "Eigen vectors are :\n",
            " [[-0.67934373 -0.59990492 -0.42261825]\n",
            " [-0.3650547   0.77587586 -0.5145403 ]\n",
            " [-0.63657455  0.19527095  0.74608451]]\n"
          ]
        }
      ]
    },
    {
      "cell_type": "markdown",
      "source": [
        "#SVD"
      ],
      "metadata": {
        "id": "AHEsfxdFvwWX"
      }
    },
    {
      "cell_type": "code",
      "source": [
        "U2,S2,vt=np.linalg.svd(A)\n",
        "print(\"U is :\\n\", U2)\n",
        "print(\"S is :\\n\", S2)\n",
        "print(\"Vt is :\\n\", vt)"
      ],
      "metadata": {
        "colab": {
          "base_uri": "https://localhost:8080/"
        },
        "id": "I8_obatfvY6x",
        "outputId": "9748b0b1-3a8b-484d-8a79-ae6d63b335b2"
      },
      "execution_count": 33,
      "outputs": [
        {
          "output_type": "stream",
          "name": "stdout",
          "text": [
            "U is :\n",
            " [[-0.67934373 -0.42261825 -0.59990492]\n",
            " [-0.3650547  -0.5145403   0.77587586]\n",
            " [-0.63657455  0.74608451  0.19527095]]\n",
            "S is :\n",
            " [5.34849393 2.07865306 0.26984088]\n",
            "Vt is :\n",
            " [[-0.67934373 -0.3650547  -0.63657455]\n",
            " [ 0.42261825  0.5145403  -0.74608451]\n",
            " [ 0.59990492 -0.77587586 -0.19527095]]\n"
          ]
        }
      ]
    },
    {
      "cell_type": "code",
      "source": [],
      "metadata": {
        "id": "2vpwwGegwA_3"
      },
      "execution_count": null,
      "outputs": []
    }
  ]
}